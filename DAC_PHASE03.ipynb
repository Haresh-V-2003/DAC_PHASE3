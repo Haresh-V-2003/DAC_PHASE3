{
 "cells": [
  {
   "cell_type": "code",
   "execution_count": 1,
   "id": "196568d0",
   "metadata": {},
   "outputs": [],
   "source": [
    "import pandas as pd"
   ]
  },
  {
   "cell_type": "code",
   "execution_count": 2,
   "id": "28f8f9ff",
   "metadata": {},
   "outputs": [],
   "source": [
    "import numpy as np"
   ]
  },
  {
   "cell_type": "code",
   "execution_count": 3,
   "id": "002e2222",
   "metadata": {},
   "outputs": [],
   "source": [
    "import matplotlib.pyplot as plt"
   ]
  },
  {
   "cell_type": "code",
   "execution_count": 12,
   "id": "ec04d1d0",
   "metadata": {},
   "outputs": [],
   "source": [
    "import scipy as sc"
   ]
  },
  {
   "cell_type": "code",
   "execution_count": 4,
   "id": "e3a7a767",
   "metadata": {},
   "outputs": [],
   "source": [
    "data=pd.read_csv(\"C:\\DAC\\DAC_PHASE1\\DAC_Dataset.csv\")"
   ]
  },
  {
   "cell_type": "code",
   "execution_count": 5,
   "id": "0df9ebfb",
   "metadata": {},
   "outputs": [
    {
     "name": "stdout",
     "output_type": "stream",
     "text": [
      "      Stn Code Sampling Date       State City/Town/Village/Area  \\\n",
      "0           38      01-02-14  Tamil Nadu                Chennai   \n",
      "1           38      01-07-14  Tamil Nadu                Chennai   \n",
      "2           38      21-01-14  Tamil Nadu                Chennai   \n",
      "3           38      23-01-14  Tamil Nadu                Chennai   \n",
      "4           38      28-01-14  Tamil Nadu                Chennai   \n",
      "...        ...           ...         ...                    ...   \n",
      "2874       773      12-03-14  Tamil Nadu                 Trichy   \n",
      "2875       773      12-10-14  Tamil Nadu                 Trichy   \n",
      "2876       773      17-12-14  Tamil Nadu                 Trichy   \n",
      "2877       773      24-12-14  Tamil Nadu                 Trichy   \n",
      "2878       773      31-12-14  Tamil Nadu                 Trichy   \n",
      "\n",
      "                        Location of Monitoring Station  \\\n",
      "0     Kathivakkam, Municipal Kalyana Mandapam, Chennai   \n",
      "1     Kathivakkam, Municipal Kalyana Mandapam, Chennai   \n",
      "2     Kathivakkam, Municipal Kalyana Mandapam, Chennai   \n",
      "3     Kathivakkam, Municipal Kalyana Mandapam, Chennai   \n",
      "4     Kathivakkam, Municipal Kalyana Mandapam, Chennai   \n",
      "...                                                ...   \n",
      "2874                         Central Bus Stand, Trichy   \n",
      "2875                         Central Bus Stand, Trichy   \n",
      "2876                         Central Bus Stand, Trichy   \n",
      "2877                         Central Bus Stand, Trichy   \n",
      "2878                         Central Bus Stand, Trichy   \n",
      "\n",
      "                                       Agency  \\\n",
      "0     Tamilnadu State Pollution Control Board   \n",
      "1     Tamilnadu State Pollution Control Board   \n",
      "2     Tamilnadu State Pollution Control Board   \n",
      "3     Tamilnadu State Pollution Control Board   \n",
      "4     Tamilnadu State Pollution Control Board   \n",
      "...                                       ...   \n",
      "2874  Tamilnadu State Pollution Control Board   \n",
      "2875  Tamilnadu State Pollution Control Board   \n",
      "2876  Tamilnadu State Pollution Control Board   \n",
      "2877  Tamilnadu State Pollution Control Board   \n",
      "2878  Tamilnadu State Pollution Control Board   \n",
      "\n",
      "                        Type of Location   SO2   NO2  RSPM/PM10  PM 2.5  \n",
      "0                        Industrial Area  11.0  17.0       55.0     NaN  \n",
      "1                        Industrial Area  13.0  17.0       45.0     NaN  \n",
      "2                        Industrial Area  12.0  18.0       50.0     NaN  \n",
      "3                        Industrial Area  15.0  16.0       46.0     NaN  \n",
      "4                        Industrial Area  13.0  14.0       42.0     NaN  \n",
      "...                                  ...   ...   ...        ...     ...  \n",
      "2874  Residential, Rural and other Areas  15.0  18.0      102.0     NaN  \n",
      "2875  Residential, Rural and other Areas  12.0  14.0       91.0     NaN  \n",
      "2876  Residential, Rural and other Areas  19.0  22.0      100.0     NaN  \n",
      "2877  Residential, Rural and other Areas  15.0  17.0       95.0     NaN  \n",
      "2878  Residential, Rural and other Areas  14.0  16.0       94.0     NaN  \n",
      "\n",
      "[2879 rows x 11 columns]\n"
     ]
    }
   ],
   "source": [
    "print(data)"
   ]
  },
  {
   "cell_type": "code",
   "execution_count": 6,
   "id": "9f50b531",
   "metadata": {},
   "outputs": [
    {
     "data": {
      "text/html": [
       "<div>\n",
       "<style scoped>\n",
       "    .dataframe tbody tr th:only-of-type {\n",
       "        vertical-align: middle;\n",
       "    }\n",
       "\n",
       "    .dataframe tbody tr th {\n",
       "        vertical-align: top;\n",
       "    }\n",
       "\n",
       "    .dataframe thead th {\n",
       "        text-align: right;\n",
       "    }\n",
       "</style>\n",
       "<table border=\"1\" class=\"dataframe\">\n",
       "  <thead>\n",
       "    <tr style=\"text-align: right;\">\n",
       "      <th></th>\n",
       "      <th>Stn Code</th>\n",
       "      <th>Sampling Date</th>\n",
       "      <th>State</th>\n",
       "      <th>City/Town/Village/Area</th>\n",
       "      <th>Location of Monitoring Station</th>\n",
       "      <th>Agency</th>\n",
       "      <th>Type of Location</th>\n",
       "      <th>SO2</th>\n",
       "      <th>NO2</th>\n",
       "      <th>RSPM/PM10</th>\n",
       "      <th>PM 2.5</th>\n",
       "    </tr>\n",
       "  </thead>\n",
       "  <tbody>\n",
       "    <tr>\n",
       "      <th>0</th>\n",
       "      <td>38</td>\n",
       "      <td>01-02-14</td>\n",
       "      <td>Tamil Nadu</td>\n",
       "      <td>Chennai</td>\n",
       "      <td>Kathivakkam, Municipal Kalyana Mandapam, Chennai</td>\n",
       "      <td>Tamilnadu State Pollution Control Board</td>\n",
       "      <td>Industrial Area</td>\n",
       "      <td>11.0</td>\n",
       "      <td>17.0</td>\n",
       "      <td>55.0</td>\n",
       "      <td>NaN</td>\n",
       "    </tr>\n",
       "    <tr>\n",
       "      <th>1</th>\n",
       "      <td>38</td>\n",
       "      <td>01-07-14</td>\n",
       "      <td>Tamil Nadu</td>\n",
       "      <td>Chennai</td>\n",
       "      <td>Kathivakkam, Municipal Kalyana Mandapam, Chennai</td>\n",
       "      <td>Tamilnadu State Pollution Control Board</td>\n",
       "      <td>Industrial Area</td>\n",
       "      <td>13.0</td>\n",
       "      <td>17.0</td>\n",
       "      <td>45.0</td>\n",
       "      <td>NaN</td>\n",
       "    </tr>\n",
       "    <tr>\n",
       "      <th>2</th>\n",
       "      <td>38</td>\n",
       "      <td>21-01-14</td>\n",
       "      <td>Tamil Nadu</td>\n",
       "      <td>Chennai</td>\n",
       "      <td>Kathivakkam, Municipal Kalyana Mandapam, Chennai</td>\n",
       "      <td>Tamilnadu State Pollution Control Board</td>\n",
       "      <td>Industrial Area</td>\n",
       "      <td>12.0</td>\n",
       "      <td>18.0</td>\n",
       "      <td>50.0</td>\n",
       "      <td>NaN</td>\n",
       "    </tr>\n",
       "    <tr>\n",
       "      <th>3</th>\n",
       "      <td>38</td>\n",
       "      <td>23-01-14</td>\n",
       "      <td>Tamil Nadu</td>\n",
       "      <td>Chennai</td>\n",
       "      <td>Kathivakkam, Municipal Kalyana Mandapam, Chennai</td>\n",
       "      <td>Tamilnadu State Pollution Control Board</td>\n",
       "      <td>Industrial Area</td>\n",
       "      <td>15.0</td>\n",
       "      <td>16.0</td>\n",
       "      <td>46.0</td>\n",
       "      <td>NaN</td>\n",
       "    </tr>\n",
       "    <tr>\n",
       "      <th>4</th>\n",
       "      <td>38</td>\n",
       "      <td>28-01-14</td>\n",
       "      <td>Tamil Nadu</td>\n",
       "      <td>Chennai</td>\n",
       "      <td>Kathivakkam, Municipal Kalyana Mandapam, Chennai</td>\n",
       "      <td>Tamilnadu State Pollution Control Board</td>\n",
       "      <td>Industrial Area</td>\n",
       "      <td>13.0</td>\n",
       "      <td>14.0</td>\n",
       "      <td>42.0</td>\n",
       "      <td>NaN</td>\n",
       "    </tr>\n",
       "  </tbody>\n",
       "</table>\n",
       "</div>"
      ],
      "text/plain": [
       "   Stn Code Sampling Date       State City/Town/Village/Area  \\\n",
       "0        38      01-02-14  Tamil Nadu                Chennai   \n",
       "1        38      01-07-14  Tamil Nadu                Chennai   \n",
       "2        38      21-01-14  Tamil Nadu                Chennai   \n",
       "3        38      23-01-14  Tamil Nadu                Chennai   \n",
       "4        38      28-01-14  Tamil Nadu                Chennai   \n",
       "\n",
       "                     Location of Monitoring Station  \\\n",
       "0  Kathivakkam, Municipal Kalyana Mandapam, Chennai   \n",
       "1  Kathivakkam, Municipal Kalyana Mandapam, Chennai   \n",
       "2  Kathivakkam, Municipal Kalyana Mandapam, Chennai   \n",
       "3  Kathivakkam, Municipal Kalyana Mandapam, Chennai   \n",
       "4  Kathivakkam, Municipal Kalyana Mandapam, Chennai   \n",
       "\n",
       "                                    Agency Type of Location   SO2   NO2  \\\n",
       "0  Tamilnadu State Pollution Control Board  Industrial Area  11.0  17.0   \n",
       "1  Tamilnadu State Pollution Control Board  Industrial Area  13.0  17.0   \n",
       "2  Tamilnadu State Pollution Control Board  Industrial Area  12.0  18.0   \n",
       "3  Tamilnadu State Pollution Control Board  Industrial Area  15.0  16.0   \n",
       "4  Tamilnadu State Pollution Control Board  Industrial Area  13.0  14.0   \n",
       "\n",
       "   RSPM/PM10  PM 2.5  \n",
       "0       55.0     NaN  \n",
       "1       45.0     NaN  \n",
       "2       50.0     NaN  \n",
       "3       46.0     NaN  \n",
       "4       42.0     NaN  "
      ]
     },
     "execution_count": 6,
     "metadata": {},
     "output_type": "execute_result"
    }
   ],
   "source": [
    "data.head()"
   ]
  },
  {
   "cell_type": "code",
   "execution_count": 7,
   "id": "964195aa",
   "metadata": {},
   "outputs": [
    {
     "name": "stdout",
     "output_type": "stream",
     "text": [
      "<class 'pandas.core.frame.DataFrame'>\n",
      "RangeIndex: 2879 entries, 0 to 2878\n",
      "Data columns (total 11 columns):\n",
      " #   Column                          Non-Null Count  Dtype  \n",
      "---  ------                          --------------  -----  \n",
      " 0   Stn Code                        2879 non-null   int64  \n",
      " 1   Sampling Date                   2879 non-null   object \n",
      " 2   State                           2879 non-null   object \n",
      " 3   City/Town/Village/Area          2879 non-null   object \n",
      " 4   Location of Monitoring Station  2879 non-null   object \n",
      " 5   Agency                          2879 non-null   object \n",
      " 6   Type of Location                2879 non-null   object \n",
      " 7   SO2                             2868 non-null   float64\n",
      " 8   NO2                             2866 non-null   float64\n",
      " 9   RSPM/PM10                       2875 non-null   float64\n",
      " 10  PM 2.5                          0 non-null      float64\n",
      "dtypes: float64(4), int64(1), object(6)\n",
      "memory usage: 247.5+ KB\n"
     ]
    }
   ],
   "source": [
    "data.info()"
   ]
  },
  {
   "cell_type": "code",
   "execution_count": 24,
   "id": "e0c6e65a",
   "metadata": {},
   "outputs": [],
   "source": [
    "s=(data['SO2'])"
   ]
  },
  {
   "cell_type": "code",
   "execution_count": 25,
   "id": "6d01b8a8",
   "metadata": {},
   "outputs": [
    {
     "data": {
      "text/plain": [
       "11.503138075313808"
      ]
     },
     "execution_count": 25,
     "metadata": {},
     "output_type": "execute_result"
    }
   ],
   "source": [
    "np.mean(s)"
   ]
  },
  {
   "cell_type": "code",
   "execution_count": 18,
   "id": "8c521be5",
   "metadata": {},
   "outputs": [
    {
     "data": {
      "text/plain": [
       "5.051702402147344"
      ]
     },
     "execution_count": 18,
     "metadata": {},
     "output_type": "execute_result"
    }
   ],
   "source": [
    "s.std()"
   ]
  },
  {
   "cell_type": "code",
   "execution_count": 19,
   "id": "fbc8487c",
   "metadata": {},
   "outputs": [
    {
     "data": {
      "text/plain": [
       "25.519697159861238"
      ]
     },
     "execution_count": 19,
     "metadata": {},
     "output_type": "execute_result"
    }
   ],
   "source": [
    "s.var()"
   ]
  },
  {
   "cell_type": "code",
   "execution_count": 21,
   "id": "0991b605",
   "metadata": {},
   "outputs": [
    {
     "data": {
      "text/plain": [
       "0.5627115328978132"
      ]
     },
     "execution_count": 21,
     "metadata": {},
     "output_type": "execute_result"
    }
   ],
   "source": [
    "s.skew()"
   ]
  },
  {
   "cell_type": "code",
   "execution_count": 26,
   "id": "e49d60a5",
   "metadata": {},
   "outputs": [
    {
     "data": {
      "text/plain": [
       "2.2658770230801273"
      ]
     },
     "execution_count": 26,
     "metadata": {},
     "output_type": "execute_result"
    }
   ],
   "source": [
    "s.kurtosis()"
   ]
  },
  {
   "cell_type": "code",
   "execution_count": 27,
   "id": "1b943a38",
   "metadata": {},
   "outputs": [
    {
     "data": {
      "text/html": [
       "<div>\n",
       "<style scoped>\n",
       "    .dataframe tbody tr th:only-of-type {\n",
       "        vertical-align: middle;\n",
       "    }\n",
       "\n",
       "    .dataframe tbody tr th {\n",
       "        vertical-align: top;\n",
       "    }\n",
       "\n",
       "    .dataframe thead th {\n",
       "        text-align: right;\n",
       "    }\n",
       "</style>\n",
       "<table border=\"1\" class=\"dataframe\">\n",
       "  <thead>\n",
       "    <tr style=\"text-align: right;\">\n",
       "      <th></th>\n",
       "      <th>Stn Code</th>\n",
       "      <th>SO2</th>\n",
       "      <th>NO2</th>\n",
       "      <th>RSPM/PM10</th>\n",
       "      <th>PM 2.5</th>\n",
       "    </tr>\n",
       "  </thead>\n",
       "  <tbody>\n",
       "    <tr>\n",
       "      <th>count</th>\n",
       "      <td>2879.000000</td>\n",
       "      <td>2868.000000</td>\n",
       "      <td>2866.000000</td>\n",
       "      <td>2875.000000</td>\n",
       "      <td>0.0</td>\n",
       "    </tr>\n",
       "    <tr>\n",
       "      <th>mean</th>\n",
       "      <td>475.750261</td>\n",
       "      <td>11.503138</td>\n",
       "      <td>22.136776</td>\n",
       "      <td>62.494261</td>\n",
       "      <td>NaN</td>\n",
       "    </tr>\n",
       "    <tr>\n",
       "      <th>std</th>\n",
       "      <td>277.675577</td>\n",
       "      <td>5.051702</td>\n",
       "      <td>7.128694</td>\n",
       "      <td>31.368745</td>\n",
       "      <td>NaN</td>\n",
       "    </tr>\n",
       "    <tr>\n",
       "      <th>min</th>\n",
       "      <td>38.000000</td>\n",
       "      <td>2.000000</td>\n",
       "      <td>5.000000</td>\n",
       "      <td>12.000000</td>\n",
       "      <td>NaN</td>\n",
       "    </tr>\n",
       "    <tr>\n",
       "      <th>25%</th>\n",
       "      <td>238.000000</td>\n",
       "      <td>8.000000</td>\n",
       "      <td>17.000000</td>\n",
       "      <td>41.000000</td>\n",
       "      <td>NaN</td>\n",
       "    </tr>\n",
       "    <tr>\n",
       "      <th>50%</th>\n",
       "      <td>366.000000</td>\n",
       "      <td>12.000000</td>\n",
       "      <td>22.000000</td>\n",
       "      <td>55.000000</td>\n",
       "      <td>NaN</td>\n",
       "    </tr>\n",
       "    <tr>\n",
       "      <th>75%</th>\n",
       "      <td>764.000000</td>\n",
       "      <td>15.000000</td>\n",
       "      <td>25.000000</td>\n",
       "      <td>78.000000</td>\n",
       "      <td>NaN</td>\n",
       "    </tr>\n",
       "    <tr>\n",
       "      <th>max</th>\n",
       "      <td>773.000000</td>\n",
       "      <td>49.000000</td>\n",
       "      <td>71.000000</td>\n",
       "      <td>269.000000</td>\n",
       "      <td>NaN</td>\n",
       "    </tr>\n",
       "  </tbody>\n",
       "</table>\n",
       "</div>"
      ],
      "text/plain": [
       "          Stn Code          SO2          NO2    RSPM/PM10  PM 2.5\n",
       "count  2879.000000  2868.000000  2866.000000  2875.000000     0.0\n",
       "mean    475.750261    11.503138    22.136776    62.494261     NaN\n",
       "std     277.675577     5.051702     7.128694    31.368745     NaN\n",
       "min      38.000000     2.000000     5.000000    12.000000     NaN\n",
       "25%     238.000000     8.000000    17.000000    41.000000     NaN\n",
       "50%     366.000000    12.000000    22.000000    55.000000     NaN\n",
       "75%     764.000000    15.000000    25.000000    78.000000     NaN\n",
       "max     773.000000    49.000000    71.000000   269.000000     NaN"
      ]
     },
     "execution_count": 27,
     "metadata": {},
     "output_type": "execute_result"
    }
   ],
   "source": [
    "data.describe()"
   ]
  },
  {
   "cell_type": "code",
   "execution_count": 29,
   "id": "2380d32d",
   "metadata": {},
   "outputs": [
    {
     "data": {
      "text/plain": [
       "(2879, 11)"
      ]
     },
     "execution_count": 29,
     "metadata": {},
     "output_type": "execute_result"
    }
   ],
   "source": [
    "data.shape"
   ]
  },
  {
   "cell_type": "code",
   "execution_count": null,
   "id": "b8c18835",
   "metadata": {},
   "outputs": [],
   "source": []
  }
 ],
 "metadata": {
  "kernelspec": {
   "display_name": "Python 3 (ipykernel)",
   "language": "python",
   "name": "python3"
  },
  "language_info": {
   "codemirror_mode": {
    "name": "ipython",
    "version": 3
   },
   "file_extension": ".py",
   "mimetype": "text/x-python",
   "name": "python",
   "nbconvert_exporter": "python",
   "pygments_lexer": "ipython3",
   "version": "3.8.6"
  }
 },
 "nbformat": 4,
 "nbformat_minor": 5
}
